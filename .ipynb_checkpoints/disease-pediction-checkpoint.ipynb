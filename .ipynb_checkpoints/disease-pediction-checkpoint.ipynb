{
 "cells": [
  {
   "cell_type": "markdown",
   "id": "eba5d9b7",
   "metadata": {
    "papermill": {
     "duration": 0.007635,
     "end_time": "2023-01-21T15:27:33.753514",
     "exception": false,
     "start_time": "2023-01-21T15:27:33.745879",
     "status": "completed"
    },
    "tags": []
   },
   "source": [
    "## DISEASE PREDICTION"
   ]
  },
  {
   "cell_type": "markdown",
   "id": "01e483b3",
   "metadata": {
    "papermill": {
     "duration": 0.004794,
     "end_time": "2023-01-21T15:27:33.764090",
     "exception": false,
     "start_time": "2023-01-21T15:27:33.759296",
     "status": "completed"
    },
    "tags": []
   },
   "source": [
    "#### IMPORT LIBRARIES"
   ]
  },
  {
   "cell_type": "code",
   "execution_count": 1,
   "id": "f56db138",
   "metadata": {
    "execution": {
     "iopub.execute_input": "2023-01-21T15:27:33.776178Z",
     "iopub.status.busy": "2023-01-21T15:27:33.775665Z",
     "iopub.status.idle": "2023-01-21T15:27:33.786322Z",
     "shell.execute_reply": "2023-01-21T15:27:33.785249Z"
    },
    "papermill": {
     "duration": 0.019774,
     "end_time": "2023-01-21T15:27:33.788875",
     "exception": false,
     "start_time": "2023-01-21T15:27:33.769101",
     "status": "completed"
    },
    "tags": []
   },
   "outputs": [],
   "source": [
    "import numpy as np\n",
    "import pandas as pd"
   ]
  },
  {
   "cell_type": "code",
   "execution_count": 3,
   "id": "c7b56bb8",
   "metadata": {
    "execution": {
     "iopub.execute_input": "2023-01-21T15:27:33.801268Z",
     "iopub.status.busy": "2023-01-21T15:27:33.800536Z",
     "iopub.status.idle": "2023-01-21T15:27:33.926037Z",
     "shell.execute_reply": "2023-01-21T15:27:33.924562Z"
    },
    "papermill": {
     "duration": 0.134749,
     "end_time": "2023-01-21T15:27:33.928800",
     "exception": false,
     "start_time": "2023-01-21T15:27:33.794051",
     "status": "completed"
    },
    "tags": []
   },
   "outputs": [],
   "source": [
    "train=pd.read_csv(\"Training.csv\")\n",
    "test=pd.read_csv(\"Testing.csv\")"
   ]
  },
  {
   "cell_type": "markdown",
   "id": "45747a4b",
   "metadata": {
    "papermill": {
     "duration": 0.004733,
     "end_time": "2023-01-21T15:27:33.938694",
     "exception": false,
     "start_time": "2023-01-21T15:27:33.933961",
     "status": "completed"
    },
    "tags": []
   },
   "source": [
    "#### DATASET CHECKING"
   ]
  },
  {
   "cell_type": "code",
   "execution_count": 4,
   "id": "faff0d33",
   "metadata": {
    "execution": {
     "iopub.execute_input": "2023-01-21T15:27:33.950748Z",
     "iopub.status.busy": "2023-01-21T15:27:33.950319Z",
     "iopub.status.idle": "2023-01-21T15:27:33.982942Z",
     "shell.execute_reply": "2023-01-21T15:27:33.981738Z"
    },
    "papermill": {
     "duration": 0.042239,
     "end_time": "2023-01-21T15:27:33.986038",
     "exception": false,
     "start_time": "2023-01-21T15:27:33.943799",
     "status": "completed"
    },
    "tags": []
   },
   "outputs": [
    {
     "data": {
      "text/html": [
       "<div>\n",
       "<style scoped>\n",
       "    .dataframe tbody tr th:only-of-type {\n",
       "        vertical-align: middle;\n",
       "    }\n",
       "\n",
       "    .dataframe tbody tr th {\n",
       "        vertical-align: top;\n",
       "    }\n",
       "\n",
       "    .dataframe thead th {\n",
       "        text-align: right;\n",
       "    }\n",
       "</style>\n",
       "<table border=\"1\" class=\"dataframe\">\n",
       "  <thead>\n",
       "    <tr style=\"text-align: right;\">\n",
       "      <th></th>\n",
       "      <th>itching</th>\n",
       "      <th>skin_rash</th>\n",
       "      <th>nodal_skin_eruptions</th>\n",
       "      <th>continuous_sneezing</th>\n",
       "      <th>shivering</th>\n",
       "      <th>chills</th>\n",
       "      <th>joint_pain</th>\n",
       "      <th>stomach_pain</th>\n",
       "      <th>acidity</th>\n",
       "      <th>ulcers_on_tongue</th>\n",
       "      <th>...</th>\n",
       "      <th>scurring</th>\n",
       "      <th>skin_peeling</th>\n",
       "      <th>silver_like_dusting</th>\n",
       "      <th>small_dents_in_nails</th>\n",
       "      <th>inflammatory_nails</th>\n",
       "      <th>blister</th>\n",
       "      <th>red_sore_around_nose</th>\n",
       "      <th>yellow_crust_ooze</th>\n",
       "      <th>prognosis</th>\n",
       "      <th>Unnamed: 133</th>\n",
       "    </tr>\n",
       "  </thead>\n",
       "  <tbody>\n",
       "    <tr>\n",
       "      <th>0</th>\n",
       "      <td>1</td>\n",
       "      <td>1</td>\n",
       "      <td>1</td>\n",
       "      <td>0</td>\n",
       "      <td>0</td>\n",
       "      <td>0</td>\n",
       "      <td>0</td>\n",
       "      <td>0</td>\n",
       "      <td>0</td>\n",
       "      <td>0</td>\n",
       "      <td>...</td>\n",
       "      <td>0</td>\n",
       "      <td>0</td>\n",
       "      <td>0</td>\n",
       "      <td>0</td>\n",
       "      <td>0</td>\n",
       "      <td>0</td>\n",
       "      <td>0</td>\n",
       "      <td>0</td>\n",
       "      <td>Fungal infection</td>\n",
       "      <td>NaN</td>\n",
       "    </tr>\n",
       "    <tr>\n",
       "      <th>1</th>\n",
       "      <td>0</td>\n",
       "      <td>1</td>\n",
       "      <td>1</td>\n",
       "      <td>0</td>\n",
       "      <td>0</td>\n",
       "      <td>0</td>\n",
       "      <td>0</td>\n",
       "      <td>0</td>\n",
       "      <td>0</td>\n",
       "      <td>0</td>\n",
       "      <td>...</td>\n",
       "      <td>0</td>\n",
       "      <td>0</td>\n",
       "      <td>0</td>\n",
       "      <td>0</td>\n",
       "      <td>0</td>\n",
       "      <td>0</td>\n",
       "      <td>0</td>\n",
       "      <td>0</td>\n",
       "      <td>Fungal infection</td>\n",
       "      <td>NaN</td>\n",
       "    </tr>\n",
       "    <tr>\n",
       "      <th>2</th>\n",
       "      <td>1</td>\n",
       "      <td>0</td>\n",
       "      <td>1</td>\n",
       "      <td>0</td>\n",
       "      <td>0</td>\n",
       "      <td>0</td>\n",
       "      <td>0</td>\n",
       "      <td>0</td>\n",
       "      <td>0</td>\n",
       "      <td>0</td>\n",
       "      <td>...</td>\n",
       "      <td>0</td>\n",
       "      <td>0</td>\n",
       "      <td>0</td>\n",
       "      <td>0</td>\n",
       "      <td>0</td>\n",
       "      <td>0</td>\n",
       "      <td>0</td>\n",
       "      <td>0</td>\n",
       "      <td>Fungal infection</td>\n",
       "      <td>NaN</td>\n",
       "    </tr>\n",
       "    <tr>\n",
       "      <th>3</th>\n",
       "      <td>1</td>\n",
       "      <td>1</td>\n",
       "      <td>0</td>\n",
       "      <td>0</td>\n",
       "      <td>0</td>\n",
       "      <td>0</td>\n",
       "      <td>0</td>\n",
       "      <td>0</td>\n",
       "      <td>0</td>\n",
       "      <td>0</td>\n",
       "      <td>...</td>\n",
       "      <td>0</td>\n",
       "      <td>0</td>\n",
       "      <td>0</td>\n",
       "      <td>0</td>\n",
       "      <td>0</td>\n",
       "      <td>0</td>\n",
       "      <td>0</td>\n",
       "      <td>0</td>\n",
       "      <td>Fungal infection</td>\n",
       "      <td>NaN</td>\n",
       "    </tr>\n",
       "    <tr>\n",
       "      <th>4</th>\n",
       "      <td>1</td>\n",
       "      <td>1</td>\n",
       "      <td>1</td>\n",
       "      <td>0</td>\n",
       "      <td>0</td>\n",
       "      <td>0</td>\n",
       "      <td>0</td>\n",
       "      <td>0</td>\n",
       "      <td>0</td>\n",
       "      <td>0</td>\n",
       "      <td>...</td>\n",
       "      <td>0</td>\n",
       "      <td>0</td>\n",
       "      <td>0</td>\n",
       "      <td>0</td>\n",
       "      <td>0</td>\n",
       "      <td>0</td>\n",
       "      <td>0</td>\n",
       "      <td>0</td>\n",
       "      <td>Fungal infection</td>\n",
       "      <td>NaN</td>\n",
       "    </tr>\n",
       "  </tbody>\n",
       "</table>\n",
       "<p>5 rows × 134 columns</p>\n",
       "</div>"
      ],
      "text/plain": [
       "   itching  skin_rash  nodal_skin_eruptions  continuous_sneezing  shivering  \\\n",
       "0        1          1                     1                    0          0   \n",
       "1        0          1                     1                    0          0   \n",
       "2        1          0                     1                    0          0   \n",
       "3        1          1                     0                    0          0   \n",
       "4        1          1                     1                    0          0   \n",
       "\n",
       "   chills  joint_pain  stomach_pain  acidity  ulcers_on_tongue  ...  scurring  \\\n",
       "0       0           0             0        0                 0  ...         0   \n",
       "1       0           0             0        0                 0  ...         0   \n",
       "2       0           0             0        0                 0  ...         0   \n",
       "3       0           0             0        0                 0  ...         0   \n",
       "4       0           0             0        0                 0  ...         0   \n",
       "\n",
       "   skin_peeling  silver_like_dusting  small_dents_in_nails  \\\n",
       "0             0                    0                     0   \n",
       "1             0                    0                     0   \n",
       "2             0                    0                     0   \n",
       "3             0                    0                     0   \n",
       "4             0                    0                     0   \n",
       "\n",
       "   inflammatory_nails  blister  red_sore_around_nose  yellow_crust_ooze  \\\n",
       "0                   0        0                     0                  0   \n",
       "1                   0        0                     0                  0   \n",
       "2                   0        0                     0                  0   \n",
       "3                   0        0                     0                  0   \n",
       "4                   0        0                     0                  0   \n",
       "\n",
       "          prognosis  Unnamed: 133  \n",
       "0  Fungal infection           NaN  \n",
       "1  Fungal infection           NaN  \n",
       "2  Fungal infection           NaN  \n",
       "3  Fungal infection           NaN  \n",
       "4  Fungal infection           NaN  \n",
       "\n",
       "[5 rows x 134 columns]"
      ]
     },
     "execution_count": 4,
     "metadata": {},
     "output_type": "execute_result"
    }
   ],
   "source": [
    "train.head()"
   ]
  },
  {
   "cell_type": "code",
   "execution_count": 5,
   "id": "0beefbf6",
   "metadata": {
    "execution": {
     "iopub.execute_input": "2023-01-21T15:27:33.998807Z",
     "iopub.status.busy": "2023-01-21T15:27:33.998089Z",
     "iopub.status.idle": "2023-01-21T15:27:34.020839Z",
     "shell.execute_reply": "2023-01-21T15:27:34.018950Z"
    },
    "papermill": {
     "duration": 0.03237,
     "end_time": "2023-01-21T15:27:34.023811",
     "exception": false,
     "start_time": "2023-01-21T15:27:33.991441",
     "status": "completed"
    },
    "tags": []
   },
   "outputs": [
    {
     "data": {
      "text/html": [
       "<div>\n",
       "<style scoped>\n",
       "    .dataframe tbody tr th:only-of-type {\n",
       "        vertical-align: middle;\n",
       "    }\n",
       "\n",
       "    .dataframe tbody tr th {\n",
       "        vertical-align: top;\n",
       "    }\n",
       "\n",
       "    .dataframe thead th {\n",
       "        text-align: right;\n",
       "    }\n",
       "</style>\n",
       "<table border=\"1\" class=\"dataframe\">\n",
       "  <thead>\n",
       "    <tr style=\"text-align: right;\">\n",
       "      <th></th>\n",
       "      <th>itching</th>\n",
       "      <th>skin_rash</th>\n",
       "      <th>nodal_skin_eruptions</th>\n",
       "      <th>continuous_sneezing</th>\n",
       "      <th>shivering</th>\n",
       "      <th>chills</th>\n",
       "      <th>joint_pain</th>\n",
       "      <th>stomach_pain</th>\n",
       "      <th>acidity</th>\n",
       "      <th>ulcers_on_tongue</th>\n",
       "      <th>...</th>\n",
       "      <th>blackheads</th>\n",
       "      <th>scurring</th>\n",
       "      <th>skin_peeling</th>\n",
       "      <th>silver_like_dusting</th>\n",
       "      <th>small_dents_in_nails</th>\n",
       "      <th>inflammatory_nails</th>\n",
       "      <th>blister</th>\n",
       "      <th>red_sore_around_nose</th>\n",
       "      <th>yellow_crust_ooze</th>\n",
       "      <th>prognosis</th>\n",
       "    </tr>\n",
       "  </thead>\n",
       "  <tbody>\n",
       "    <tr>\n",
       "      <th>0</th>\n",
       "      <td>1</td>\n",
       "      <td>1</td>\n",
       "      <td>1</td>\n",
       "      <td>0</td>\n",
       "      <td>0</td>\n",
       "      <td>0</td>\n",
       "      <td>0</td>\n",
       "      <td>0</td>\n",
       "      <td>0</td>\n",
       "      <td>0</td>\n",
       "      <td>...</td>\n",
       "      <td>0</td>\n",
       "      <td>0</td>\n",
       "      <td>0</td>\n",
       "      <td>0</td>\n",
       "      <td>0</td>\n",
       "      <td>0</td>\n",
       "      <td>0</td>\n",
       "      <td>0</td>\n",
       "      <td>0</td>\n",
       "      <td>Fungal infection</td>\n",
       "    </tr>\n",
       "    <tr>\n",
       "      <th>1</th>\n",
       "      <td>0</td>\n",
       "      <td>0</td>\n",
       "      <td>0</td>\n",
       "      <td>1</td>\n",
       "      <td>1</td>\n",
       "      <td>1</td>\n",
       "      <td>0</td>\n",
       "      <td>0</td>\n",
       "      <td>0</td>\n",
       "      <td>0</td>\n",
       "      <td>...</td>\n",
       "      <td>0</td>\n",
       "      <td>0</td>\n",
       "      <td>0</td>\n",
       "      <td>0</td>\n",
       "      <td>0</td>\n",
       "      <td>0</td>\n",
       "      <td>0</td>\n",
       "      <td>0</td>\n",
       "      <td>0</td>\n",
       "      <td>Allergy</td>\n",
       "    </tr>\n",
       "    <tr>\n",
       "      <th>2</th>\n",
       "      <td>0</td>\n",
       "      <td>0</td>\n",
       "      <td>0</td>\n",
       "      <td>0</td>\n",
       "      <td>0</td>\n",
       "      <td>0</td>\n",
       "      <td>0</td>\n",
       "      <td>1</td>\n",
       "      <td>1</td>\n",
       "      <td>1</td>\n",
       "      <td>...</td>\n",
       "      <td>0</td>\n",
       "      <td>0</td>\n",
       "      <td>0</td>\n",
       "      <td>0</td>\n",
       "      <td>0</td>\n",
       "      <td>0</td>\n",
       "      <td>0</td>\n",
       "      <td>0</td>\n",
       "      <td>0</td>\n",
       "      <td>GERD</td>\n",
       "    </tr>\n",
       "    <tr>\n",
       "      <th>3</th>\n",
       "      <td>1</td>\n",
       "      <td>0</td>\n",
       "      <td>0</td>\n",
       "      <td>0</td>\n",
       "      <td>0</td>\n",
       "      <td>0</td>\n",
       "      <td>0</td>\n",
       "      <td>0</td>\n",
       "      <td>0</td>\n",
       "      <td>0</td>\n",
       "      <td>...</td>\n",
       "      <td>0</td>\n",
       "      <td>0</td>\n",
       "      <td>0</td>\n",
       "      <td>0</td>\n",
       "      <td>0</td>\n",
       "      <td>0</td>\n",
       "      <td>0</td>\n",
       "      <td>0</td>\n",
       "      <td>0</td>\n",
       "      <td>Chronic cholestasis</td>\n",
       "    </tr>\n",
       "    <tr>\n",
       "      <th>4</th>\n",
       "      <td>1</td>\n",
       "      <td>1</td>\n",
       "      <td>0</td>\n",
       "      <td>0</td>\n",
       "      <td>0</td>\n",
       "      <td>0</td>\n",
       "      <td>0</td>\n",
       "      <td>1</td>\n",
       "      <td>0</td>\n",
       "      <td>0</td>\n",
       "      <td>...</td>\n",
       "      <td>0</td>\n",
       "      <td>0</td>\n",
       "      <td>0</td>\n",
       "      <td>0</td>\n",
       "      <td>0</td>\n",
       "      <td>0</td>\n",
       "      <td>0</td>\n",
       "      <td>0</td>\n",
       "      <td>0</td>\n",
       "      <td>Drug Reaction</td>\n",
       "    </tr>\n",
       "  </tbody>\n",
       "</table>\n",
       "<p>5 rows × 133 columns</p>\n",
       "</div>"
      ],
      "text/plain": [
       "   itching  skin_rash  nodal_skin_eruptions  continuous_sneezing  shivering  \\\n",
       "0        1          1                     1                    0          0   \n",
       "1        0          0                     0                    1          1   \n",
       "2        0          0                     0                    0          0   \n",
       "3        1          0                     0                    0          0   \n",
       "4        1          1                     0                    0          0   \n",
       "\n",
       "   chills  joint_pain  stomach_pain  acidity  ulcers_on_tongue  ...  \\\n",
       "0       0           0             0        0                 0  ...   \n",
       "1       1           0             0        0                 0  ...   \n",
       "2       0           0             1        1                 1  ...   \n",
       "3       0           0             0        0                 0  ...   \n",
       "4       0           0             1        0                 0  ...   \n",
       "\n",
       "   blackheads  scurring  skin_peeling  silver_like_dusting  \\\n",
       "0           0         0             0                    0   \n",
       "1           0         0             0                    0   \n",
       "2           0         0             0                    0   \n",
       "3           0         0             0                    0   \n",
       "4           0         0             0                    0   \n",
       "\n",
       "   small_dents_in_nails  inflammatory_nails  blister  red_sore_around_nose  \\\n",
       "0                     0                   0        0                     0   \n",
       "1                     0                   0        0                     0   \n",
       "2                     0                   0        0                     0   \n",
       "3                     0                   0        0                     0   \n",
       "4                     0                   0        0                     0   \n",
       "\n",
       "   yellow_crust_ooze            prognosis  \n",
       "0                  0     Fungal infection  \n",
       "1                  0              Allergy  \n",
       "2                  0                 GERD  \n",
       "3                  0  Chronic cholestasis  \n",
       "4                  0        Drug Reaction  \n",
       "\n",
       "[5 rows x 133 columns]"
      ]
     },
     "execution_count": 5,
     "metadata": {},
     "output_type": "execute_result"
    }
   ],
   "source": [
    "test.head()"
   ]
  },
  {
   "cell_type": "markdown",
   "id": "3f361ee8",
   "metadata": {
    "papermill": {
     "duration": 0.00588,
     "end_time": "2023-01-21T15:27:34.035742",
     "exception": false,
     "start_time": "2023-01-21T15:27:34.029862",
     "status": "completed"
    },
    "tags": []
   },
   "source": [
    "#### DROP UNWANTED COLUMN"
   ]
  },
  {
   "cell_type": "code",
   "execution_count": 6,
   "id": "4e88f6ea",
   "metadata": {
    "execution": {
     "iopub.execute_input": "2023-01-21T15:27:34.049192Z",
     "iopub.status.busy": "2023-01-21T15:27:34.048773Z",
     "iopub.status.idle": "2023-01-21T15:27:34.061978Z",
     "shell.execute_reply": "2023-01-21T15:27:34.060313Z"
    },
    "papermill": {
     "duration": 0.022682,
     "end_time": "2023-01-21T15:27:34.064336",
     "exception": false,
     "start_time": "2023-01-21T15:27:34.041654",
     "status": "completed"
    },
    "tags": []
   },
   "outputs": [],
   "source": [
    "train=train.drop([\"Unnamed: 133\"],axis=1)"
   ]
  },
  {
   "cell_type": "code",
   "execution_count": 7,
   "id": "5fd776b5",
   "metadata": {
    "execution": {
     "iopub.execute_input": "2023-01-21T15:27:34.079884Z",
     "iopub.status.busy": "2023-01-21T15:27:34.079098Z",
     "iopub.status.idle": "2023-01-21T15:27:34.093908Z",
     "shell.execute_reply": "2023-01-21T15:27:34.092594Z"
    },
    "papermill": {
     "duration": 0.024835,
     "end_time": "2023-01-21T15:27:34.096633",
     "exception": false,
     "start_time": "2023-01-21T15:27:34.071798",
     "status": "completed"
    },
    "tags": []
   },
   "outputs": [
    {
     "data": {
      "text/plain": [
       "Fungal infection                           120\n",
       "Hepatitis C                                120\n",
       "Hepatitis E                                120\n",
       "Alcoholic hepatitis                        120\n",
       "Tuberculosis                               120\n",
       "Common Cold                                120\n",
       "Pneumonia                                  120\n",
       "Dimorphic hemmorhoids(piles)               120\n",
       "Heart attack                               120\n",
       "Varicose veins                             120\n",
       "Hypothyroidism                             120\n",
       "Hyperthyroidism                            120\n",
       "Hypoglycemia                               120\n",
       "Osteoarthristis                            120\n",
       "Arthritis                                  120\n",
       "(vertigo) Paroymsal  Positional Vertigo    120\n",
       "Acne                                       120\n",
       "Urinary tract infection                    120\n",
       "Psoriasis                                  120\n",
       "Hepatitis D                                120\n",
       "Hepatitis B                                120\n",
       "Allergy                                    120\n",
       "hepatitis A                                120\n",
       "GERD                                       120\n",
       "Chronic cholestasis                        120\n",
       "Drug Reaction                              120\n",
       "Peptic ulcer diseae                        120\n",
       "AIDS                                       120\n",
       "Diabetes                                   120\n",
       "Gastroenteritis                            120\n",
       "Bronchial Asthma                           120\n",
       "Hypertension                               120\n",
       "Migraine                                   120\n",
       "Cervical spondylosis                       120\n",
       "Paralysis (brain hemorrhage)               120\n",
       "Jaundice                                   120\n",
       "Malaria                                    120\n",
       "Chicken pox                                120\n",
       "Dengue                                     120\n",
       "Typhoid                                    120\n",
       "Impetigo                                   120\n",
       "Name: prognosis, dtype: int64"
      ]
     },
     "execution_count": 7,
     "metadata": {},
     "output_type": "execute_result"
    }
   ],
   "source": [
    "train.prognosis.value_counts()"
   ]
  },
  {
   "cell_type": "code",
   "execution_count": 8,
   "id": "74da21bc",
   "metadata": {
    "execution": {
     "iopub.execute_input": "2023-01-21T15:27:34.111490Z",
     "iopub.status.busy": "2023-01-21T15:27:34.111050Z",
     "iopub.status.idle": "2023-01-21T15:27:34.123255Z",
     "shell.execute_reply": "2023-01-21T15:27:34.122083Z"
    },
    "papermill": {
     "duration": 0.022835,
     "end_time": "2023-01-21T15:27:34.126245",
     "exception": false,
     "start_time": "2023-01-21T15:27:34.103410",
     "status": "completed"
    },
    "tags": []
   },
   "outputs": [
    {
     "data": {
      "text/plain": [
       "itching                 0\n",
       "skin_rash               0\n",
       "nodal_skin_eruptions    0\n",
       "continuous_sneezing     0\n",
       "shivering               0\n",
       "                       ..\n",
       "inflammatory_nails      0\n",
       "blister                 0\n",
       "red_sore_around_nose    0\n",
       "yellow_crust_ooze       0\n",
       "prognosis               0\n",
       "Length: 133, dtype: int64"
      ]
     },
     "execution_count": 8,
     "metadata": {},
     "output_type": "execute_result"
    }
   ],
   "source": [
    "train.isna().sum()"
   ]
  },
  {
   "cell_type": "code",
   "execution_count": 9,
   "id": "a9c9b4bf",
   "metadata": {
    "execution": {
     "iopub.execute_input": "2023-01-21T15:27:34.140593Z",
     "iopub.status.busy": "2023-01-21T15:27:34.140196Z",
     "iopub.status.idle": "2023-01-21T15:27:34.151645Z",
     "shell.execute_reply": "2023-01-21T15:27:34.150366Z"
    },
    "papermill": {
     "duration": 0.021839,
     "end_time": "2023-01-21T15:27:34.154244",
     "exception": false,
     "start_time": "2023-01-21T15:27:34.132405",
     "status": "completed"
    },
    "tags": []
   },
   "outputs": [
    {
     "data": {
      "text/plain": [
       "itching                 0\n",
       "skin_rash               0\n",
       "nodal_skin_eruptions    0\n",
       "continuous_sneezing     0\n",
       "shivering               0\n",
       "                       ..\n",
       "inflammatory_nails      0\n",
       "blister                 0\n",
       "red_sore_around_nose    0\n",
       "yellow_crust_ooze       0\n",
       "prognosis               0\n",
       "Length: 133, dtype: int64"
      ]
     },
     "execution_count": 9,
     "metadata": {},
     "output_type": "execute_result"
    }
   ],
   "source": [
    "test.isna().sum()"
   ]
  },
  {
   "cell_type": "markdown",
   "id": "b6a4be2f",
   "metadata": {
    "papermill": {
     "duration": 0.005957,
     "end_time": "2023-01-21T15:27:34.166431",
     "exception": false,
     "start_time": "2023-01-21T15:27:34.160474",
     "status": "completed"
    },
    "tags": []
   },
   "source": [
    "#### SPLITTING DATESET"
   ]
  },
  {
   "cell_type": "code",
   "execution_count": 12,
   "id": "d41f54c3",
   "metadata": {
    "execution": {
     "iopub.execute_input": "2023-01-21T15:27:34.180677Z",
     "iopub.status.busy": "2023-01-21T15:27:34.180204Z",
     "iopub.status.idle": "2023-01-21T15:27:34.192681Z",
     "shell.execute_reply": "2023-01-21T15:27:34.191540Z"
    },
    "papermill": {
     "duration": 0.022622,
     "end_time": "2023-01-21T15:27:34.195067",
     "exception": false,
     "start_time": "2023-01-21T15:27:34.172445",
     "status": "completed"
    },
    "tags": []
   },
   "outputs": [],
   "source": [
    "P = train[[\"prognosis\"]]\n",
    "X = train.drop([\"prognosis\"],axis=1)\n",
    "Y = test.drop([\"prognosis\"],axis=1)"
   ]
  },
  {
   "cell_type": "code",
   "execution_count": 13,
   "id": "4e18f98d",
   "metadata": {
    "execution": {
     "iopub.execute_input": "2023-01-21T15:27:34.209532Z",
     "iopub.status.busy": "2023-01-21T15:27:34.208728Z",
     "iopub.status.idle": "2023-01-21T15:27:35.415930Z",
     "shell.execute_reply": "2023-01-21T15:27:35.414618Z"
    },
    "papermill": {
     "duration": 1.217342,
     "end_time": "2023-01-21T15:27:35.418681",
     "exception": false,
     "start_time": "2023-01-21T15:27:34.201339",
     "status": "completed"
    },
    "tags": []
   },
   "outputs": [],
   "source": [
    "from sklearn.model_selection import train_test_split\n",
    "xtrain,xtest,ytrain,ytest = train_test_split(X,P,test_size=0.2,random_state=42)"
   ]
  },
  {
   "cell_type": "markdown",
   "id": "edb7e6bd",
   "metadata": {
    "papermill": {
     "duration": 0.008768,
     "end_time": "2023-01-21T15:27:35.435632",
     "exception": false,
     "start_time": "2023-01-21T15:27:35.426864",
     "status": "completed"
    },
    "tags": []
   },
   "source": [
    "## MODEL - RANDOM FOREST"
   ]
  },
  {
   "cell_type": "code",
   "execution_count": 14,
   "id": "624890b0",
   "metadata": {
    "execution": {
     "iopub.execute_input": "2023-01-21T15:27:35.450369Z",
     "iopub.status.busy": "2023-01-21T15:27:35.449169Z",
     "iopub.status.idle": "2023-01-21T15:27:35.691578Z",
     "shell.execute_reply": "2023-01-21T15:27:35.690164Z"
    },
    "papermill": {
     "duration": 0.252491,
     "end_time": "2023-01-21T15:27:35.694307",
     "exception": false,
     "start_time": "2023-01-21T15:27:35.441816",
     "status": "completed"
    },
    "tags": []
   },
   "outputs": [],
   "source": [
    "from sklearn.ensemble import RandomForestClassifier\n",
    "from sklearn.metrics import accuracy_score\n"
   ]
  },
  {
   "cell_type": "code",
   "execution_count": 12,
   "id": "ef10b339",
   "metadata": {
    "execution": {
     "iopub.execute_input": "2023-01-21T15:27:35.708542Z",
     "iopub.status.busy": "2023-01-21T15:27:35.708103Z",
     "iopub.status.idle": "2023-01-21T15:27:36.456034Z",
     "shell.execute_reply": "2023-01-21T15:27:36.454493Z"
    },
    "papermill": {
     "duration": 0.758029,
     "end_time": "2023-01-21T15:27:36.458518",
     "exception": false,
     "start_time": "2023-01-21T15:27:35.700489",
     "status": "completed"
    },
    "tags": []
   },
   "outputs": [
    {
     "name": "stderr",
     "output_type": "stream",
     "text": [
      "/opt/conda/lib/python3.7/site-packages/ipykernel_launcher.py:2: DataConversionWarning: A column-vector y was passed when a 1d array was expected. Please change the shape of y to (n_samples,), for example using ravel().\n",
      "  \n"
     ]
    },
    {
     "name": "stdout",
     "output_type": "stream",
     "text": [
      "training accuracy is: 1.0\n",
      "testing accuracy is: 1.0\n"
     ]
    }
   ],
   "source": [
    "rf= RandomForestClassifier(random_state=42)\n",
    "model_rf = rf.fit(xtrain,ytrain)\n",
    "tr_pred_rf = model_rf.predict(xtrain)\n",
    "ts_pred_rf = model_rf.predict(xtest)\n",
    "\n",
    "print(\"training accuracy is:\",accuracy_score(ytrain,tr_pred_rf))\n",
    "print(\"testing accuracy is:\",accuracy_score(ytest,ts_pred_rf))"
   ]
  },
  {
   "cell_type": "markdown",
   "id": "bd87bf59",
   "metadata": {
    "papermill": {
     "duration": 0.005857,
     "end_time": "2023-01-21T15:27:36.470799",
     "exception": false,
     "start_time": "2023-01-21T15:27:36.464942",
     "status": "completed"
    },
    "tags": []
   },
   "source": [
    "### PREDICTIONS"
   ]
  },
  {
   "cell_type": "code",
   "execution_count": 15,
   "id": "dbd055f6",
   "metadata": {
    "execution": {
     "iopub.execute_input": "2023-01-21T15:27:36.485745Z",
     "iopub.status.busy": "2023-01-21T15:27:36.485319Z",
     "iopub.status.idle": "2023-01-21T15:27:36.526572Z",
     "shell.execute_reply": "2023-01-21T15:27:36.525099Z"
    },
    "papermill": {
     "duration": 0.052285,
     "end_time": "2023-01-21T15:27:36.529342",
     "exception": false,
     "start_time": "2023-01-21T15:27:36.477057",
     "status": "completed"
    },
    "tags": []
   },
   "outputs": [
    {
     "ename": "NameError",
     "evalue": "name 'model_rf' is not defined",
     "output_type": "error",
     "traceback": [
      "\u001b[1;31m---------------------------------------------------------------------------\u001b[0m",
      "\u001b[1;31mNameError\u001b[0m                                 Traceback (most recent call last)",
      "Cell \u001b[1;32mIn[15], line 1\u001b[0m\n\u001b[1;32m----> 1\u001b[0m test\u001b[38;5;241m.\u001b[39mjoin(pd\u001b[38;5;241m.\u001b[39mDataFrame(\u001b[43mmodel_rf\u001b[49m\u001b[38;5;241m.\u001b[39mpredict(Y),columns\u001b[38;5;241m=\u001b[39m[\u001b[38;5;124m\"\u001b[39m\u001b[38;5;124mpredicted\u001b[39m\u001b[38;5;124m\"\u001b[39m]))[[\u001b[38;5;124m\"\u001b[39m\u001b[38;5;124mprognosis\u001b[39m\u001b[38;5;124m\"\u001b[39m,\u001b[38;5;124m\"\u001b[39m\u001b[38;5;124mpredicted\u001b[39m\u001b[38;5;124m\"\u001b[39m]]\n",
      "\u001b[1;31mNameError\u001b[0m: name 'model_rf' is not defined"
     ]
    }
   ],
   "source": [
    "test.join(pd.DataFrame(model_rf.predict(Y),columns=[\"predicted\"]))[[\"prognosis\",\"predicted\"]]"
   ]
  },
  {
   "cell_type": "code",
   "execution_count": null,
   "id": "c0ba0368",
   "metadata": {
    "papermill": {
     "duration": 0.006786,
     "end_time": "2023-01-21T15:27:36.543349",
     "exception": false,
     "start_time": "2023-01-21T15:27:36.536563",
     "status": "completed"
    },
    "tags": []
   },
   "outputs": [],
   "source": []
  }
 ],
 "metadata": {
  "kernelspec": {
   "display_name": "Python 3 (ipykernel)",
   "language": "python",
   "name": "python3"
  },
  "language_info": {
   "codemirror_mode": {
    "name": "ipython",
    "version": 3
   },
   "file_extension": ".py",
   "mimetype": "text/x-python",
   "name": "python",
   "nbconvert_exporter": "python",
   "pygments_lexer": "ipython3",
   "version": "3.9.11"
  },
  "papermill": {
   "default_parameters": {},
   "duration": 13.009674,
   "end_time": "2023-01-21T15:27:37.373729",
   "environment_variables": {},
   "exception": null,
   "input_path": "__notebook__.ipynb",
   "output_path": "__notebook__.ipynb",
   "parameters": {},
   "start_time": "2023-01-21T15:27:24.364055",
   "version": "2.3.4"
  }
 },
 "nbformat": 4,
 "nbformat_minor": 5
}
